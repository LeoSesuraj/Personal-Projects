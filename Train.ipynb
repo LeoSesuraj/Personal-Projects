{
 "cells": [
  {
   "cell_type": "code",
   "execution_count": 1,
   "metadata": {},
   "outputs": [
    {
     "name": "stdout",
     "output_type": "stream",
     "text": [
      "['MSZoning', 'Street', 'Alley', 'LotShape', 'LandContour', 'Utilities', 'LotConfig', 'LandSlope', 'Neighborhood', 'Condition1', 'Condition2', 'BldgType', 'HouseStyle', 'RoofStyle', 'RoofMatl', 'Exterior1st', 'Exterior2nd', 'MasVnrType', 'ExterQual', 'ExterCond', 'Foundation', 'BsmtQual', 'BsmtCond', 'BsmtExposure', 'BsmtFinType1', 'BsmtFinType2', 'Heating', 'HeatingQC', 'CentralAir', 'Electrical', 'KitchenQual', 'Functional', 'FireplaceQu', 'GarageType', 'GarageFinish', 'GarageQual', 'GarageCond', 'PavedDrive', 'PoolQC', 'Fence', 'MiscFeature', 'SaleType', 'SaleCondition']\n",
      "14541.946301369864 585837009.0167918 0.886273509237353\n"
     ]
    }
   ],
   "source": [
    "import pandas as pd\n",
    "from matplotlib import pyplot\n",
    "import seaborn\n",
    "from sklearn.model_selection import train_test_split\n",
    "from sklearn.ensemble import RandomForestRegressor\n",
    "from sklearn.metrics import mean_absolute_error, mean_squared_error, r2_score\n",
    "\n",
    "file_path= \"/Users/admin/Library/CloudStorage/OneDrive-purdue.edu/Data Sets/train.csv\"\n",
    "df= pd.read_csv(file_path)\n",
    "\n",
    "catdata=[]\n",
    "for column,type in df.dtypes.items():\n",
    "    if type!='int64' and type!='float64':\n",
    "        catdata.append(column)\n",
    "print(catdata)\n",
    "df_num=pd.get_dummies(df,columns=catdata)\n",
    "\n",
    "\n",
    "for column,type in df_num.dtypes.items():\n",
    "    if type=='bool':\n",
    "        df_num[column]=df_num[column].astype(int)\n",
    "\n",
    "\n",
    "# pyplot.figure(figsize=(30,20))\n",
    "# corrdata=df_num.corr()\n",
    "# print(corrdata.head())\n",
    "# # seaborn.heatmap(df_num.corr(),annot=True,cmap='coolwarm',linewidths=0.5)\n",
    "\n",
    "X=df_num.drop(columns=['SalePrice'])\n",
    "Y=df_num['SalePrice']\n",
    "\n",
    "X_train, X_test, Y_train, Y_test= train_test_split(X,Y, test_size=.05,random_state=42)\n",
    "\n",
    "r_forest=RandomForestRegressor(random_state=42)\n",
    "r_forest.fit(X_train, Y_train)\n",
    "Y_result=r_forest.predict(X_test)\n",
    "\n",
    "mae=mean_absolute_error(Y_result, Y_test)\n",
    "mse=mean_squared_error(Y_result, Y_test)\n",
    "r2=r2_score(Y_result,Y_test)\n",
    "print(mae,mse,r2)"
   ]
  },
  {
   "cell_type": "code",
   "execution_count": null,
   "metadata": {},
   "outputs": [],
   "source": []
  }
 ],
 "metadata": {
  "kernelspec": {
   "display_name": ".venv",
   "language": "python",
   "name": "python3"
  },
  "language_info": {
   "codemirror_mode": {
    "name": "ipython",
    "version": 3
   },
   "file_extension": ".py",
   "mimetype": "text/x-python",
   "name": "python",
   "nbconvert_exporter": "python",
   "pygments_lexer": "ipython3",
   "version": "3.9.6"
  }
 },
 "nbformat": 4,
 "nbformat_minor": 2
}
